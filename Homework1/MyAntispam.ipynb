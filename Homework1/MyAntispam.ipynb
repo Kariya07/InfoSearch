{
 "cells": [
  {
   "cell_type": "code",
   "execution_count": 1,
   "metadata": {},
   "outputs": [],
   "source": [
    "from __future__ import division\n",
    "\n",
    "import base64\n",
    "import csv\n",
    "import gzip\n",
    "import zlib\n",
    "import numpy as np\n",
    "from collections import namedtuple\n",
    "\n",
    "%matplotlib inline\n",
    "import matplotlib.pyplot as plt"
   ]
  },
  {
   "cell_type": "code",
   "execution_count": 2,
   "metadata": {},
   "outputs": [],
   "source": [
    "TRACE_NUM = 1000\n",
    "from importlib import reload\n",
    "import logging\n",
    "reload(logging)\n",
    "logging.basicConfig(format='%(asctime)s %(levelname)s:%(message)s', level=logging.INFO, datefmt='%H:%M:%S')\n",
    "\n",
    "def trace(items_num, trace_num=TRACE_NUM):\n",
    "    if items_num % trace_num == 0: logging.info(\"Complete items %05d\" % items_num)"
   ]
  },
  {
   "cell_type": "code",
   "execution_count": 3,
   "metadata": {},
   "outputs": [],
   "source": [
    "from html.parser import HTMLParser\n",
    "#from HTMLParser import HTMLParser\n",
    "import re\n",
    "\n",
    "###Извлечение текста из title можно вписать сюда\n"
   ]
  },
  {
   "cell_type": "code",
   "execution_count": 18,
   "metadata": {},
   "outputs": [],
   "source": [
    "a = [np.nan, np.nan, np.nan]\n",
    "if not np.isnan(a).all():\n",
    "    print('***')"
   ]
  },
  {
   "cell_type": "code",
   "execution_count": 55,
   "metadata": {},
   "outputs": [],
   "source": [
    "def html2text_bs(raw_html):\n",
    "    from bs4 import BeautifulSoup\n",
    "    soup = BeautifulSoup(raw_html, \"html.parser\")\n",
    "    [s.extract() for s in soup(['script', 'style'])]\n",
    "    text = soup.get_text()\n",
    "    \n",
    "    soup = BeautifulSoup(raw_html, \"html.parser\")\n",
    "    [s.extract() for s in soup(['style', 'script', '[document]', 'head', 'title'])]\n",
    "    visible_text = soup.get_text()\n",
    "    \n",
    "    soup = BeautifulSoup(raw_html, \"html.parser\")\n",
    "    titles = list()\n",
    "    find = soup.find('title')\n",
    "    title_len = 0\n",
    "    if find != None:\n",
    "        for title in soup.find('title'):\n",
    "            title = title.string\n",
    "            if title != None:\n",
    "                titles.append(len(title.strip().split()))\n",
    "        if len(titles) != 0 and not np.isnan(titles).all():\n",
    "            title_len = np.nanmean(titles) \n",
    "    \n",
    "    len_anchor = list()\n",
    "    avg_anchor_len = 0\n",
    "    for links in soup.findAll('a'):\n",
    "        anchor = links.string\n",
    "        if anchor != None:\n",
    "            len_anchor.append(len(anchor.strip().split()))\n",
    "    anchor_num = len(len_anchor)\n",
    "    if anchor_num != 0 and not np.isnan(len_anchor).all():\n",
    "        avg_anchor_len = np.nanmean(len_anchor)\n",
    "  \n",
    "    '''    \n",
    "    len_meta_descr = list()\n",
    "    avg_meta_descr_len = 0\n",
    "    for meta in soup.findAll('meta', {'name':'description'}):\n",
    "        meta = meta.get('content')\n",
    "        if meta != None:\n",
    "            len_meta_descr.append(len(meta.strip().split()))\n",
    "    if len(len_meta_descr) != 0 and not np.isnan(len_meta_descr).all():\n",
    "        avg_meta_descr_len = np.nanmean(len_meta_descr)\n",
    "'''\n",
    "    \n",
    "    \n",
    "    '''len_meta_keywords = list()\n",
    "    avg_meta_keywords_len = 0\n",
    "    for meta in soup.findAll('meta', {'name':'keywords'}):\n",
    "        meta = meta.get('content')\n",
    "        if meta != None:\n",
    "            len_meta_keywords.append(len(meta.strip().split()))\n",
    "    if len(len_meta_descr) != 0 and not np.isnan(len_meta_keywords).all():\n",
    "        avg_meta_keywords_len = np.nanmean(len_meta_keywords)'''\n",
    "            \n",
    "    log_phis_tags = len(soup(['b', 'i', 'u', 'strike', 's', 'tt', 'small', 'big',\n",
    "                              'sup', 'sub', 'p', 'font', 'pre', 'abbr', 'acronym',\n",
    "                              'address', 'cite', 'code', 'del', 'dfn', 'ins', 'em',\n",
    "                              'kbd', 'q', 'samp', 'strong', 'var']))\n",
    "    \n",
    "    image_num = len(soup.findAll('img'))\n",
    "    \n",
    "    script_num = len(soup.findAll('script'))\n",
    "    \n",
    "    css_num = len(soup.findAll('link'))\n",
    "            \n",
    "    return {'text': text,\n",
    "            'visible_text': visible_text,\n",
    "            'title_len': title_len,\n",
    "            'avg_anchor_len': avg_anchor_len,\n",
    "            'anchor_num': anchor_num,\n",
    "            #'avg_meta_descr_len': avg_meta_descr_len,\n",
    "            #'avg_meta_keywords_len': avg_meta_keywords_len,\n",
    "            'log_phis_tags': log_phis_tags,\n",
    "            'image_num': image_num,\n",
    "            'script_num': script_num,\n",
    "            'css_num': css_num\n",
    "           }    \n"
   ]
  },
  {
   "cell_type": "code",
   "execution_count": 56,
   "metadata": {},
   "outputs": [],
   "source": [
    "html2text = html2text_bs"
   ]
  },
  {
   "cell_type": "code",
   "execution_count": 57,
   "metadata": {},
   "outputs": [],
   "source": [
    "def to_utf8(text):\n",
    "    if isinstance(text, str): text = text.encode('utf8')\n",
    "    return text\n",
    "\n",
    "def convert2unicode(f):\n",
    "    def tmp(text):\n",
    "        if not isinstance(text, str): text = text.decode('utf8')\n",
    "        return f(text)\n",
    "    return tmp\n",
    "\n",
    "def convert2lower(f):\n",
    "    def tmp(text):        \n",
    "        return f(text.lower())\n",
    "    return tmp"
   ]
  },
  {
   "cell_type": "code",
   "execution_count": 58,
   "metadata": {},
   "outputs": [],
   "source": [
    "@convert2lower\n",
    "@convert2unicode\n",
    "def easy_tokenizer(text):\n",
    "    word = str()\n",
    "    for symbol in text:\n",
    "        if symbol.isalnum(): word += symbol\n",
    "        elif word:\n",
    "            yield word\n",
    "            word = str()\n",
    "    if word: yield word\n",
    "\n",
    "PYMORPHY_CACHE = {}\n",
    "MORPH = None\n",
    "#hint, чтобы установка pymorphy2 не была бы обязательной\n",
    "def get_lemmatizer():\n",
    "    import pymorphy2\n",
    "    global MORPH\n",
    "    if MORPH is None: MORPH = pymorphy2.MorphAnalyzer()\n",
    "    return MORPH\n",
    "\n",
    "@convert2lower\n",
    "@convert2unicode\n",
    "def pymorphy_tokenizer(text):\n",
    "    global PYMORPHY_CACHE\n",
    "    for word in easy_tokenizer(text):\n",
    "        word_hash = hash(word)\n",
    "        if word_hash not in PYMORPHY_CACHE:\n",
    "            PYMORPHY_CACHE[word_hash] = get_lemmatizer().parse(word)[0].normal_form            \n",
    "        yield PYMORPHY_CACHE[word_hash]"
   ]
  },
  {
   "cell_type": "code",
   "execution_count": 59,
   "metadata": {},
   "outputs": [],
   "source": [
    "def html2word(raw_html, to_text=html2text, tokenizer=easy_tokenizer):\n",
    "    res = dict()\n",
    "    for key, value in to_text(raw_html).items():\n",
    "        if type(value) == list:\n",
    "            res[key] = list(map((lambda x: list(tokenizer(x.lower()))), value))\n",
    "        else:\n",
    "            if type(value) == str: \n",
    "                res[key] = list(tokenizer(value.lower()))\n",
    "            else:\n",
    "                res[key] = value\n",
    "    return res\n",
    "    #return dict(map(lambda x: (x[0], list(tokenizer(x[1].lower()))), to_text(raw_html).items()))"
   ]
  },
  {
   "cell_type": "code",
   "execution_count": 60,
   "metadata": {},
   "outputs": [],
   "source": [
    "def safe_divide(a, b):\n",
    "    if a == 0: return 0.0\n",
    "    elif b == 0: return 0.0\n",
    "    else: return a/b\n",
    "\n",
    "def calculate_metrics(predictions, threshold):    \n",
    "    \"\"\"\n",
    "    Функция подсчета метрик\n",
    "    Параметры\n",
    "    predictions - ранки по документам\n",
    "    threshold  - порог для метрик\n",
    "    \"\"\"\n",
    "    true_positive = 0\n",
    "    false_positive = 0\n",
    "    true_negative = 0\n",
    "    false_negative = 0\n",
    "    for (url_id, mark, url, prediction) in predictions:        \n",
    "        mark_predict = prediction > threshold\n",
    "\n",
    "        if mark_predict:                     \n",
    "            if mark_predict == mark: true_positive += 1\n",
    "            else: false_positive += 1                    \n",
    "        else:                     \n",
    "            if  mark_predict == mark: true_negative += 1\n",
    "            else: false_negative += 1\n",
    "\n",
    "    class_prec  = safe_divide(true_positive, true_positive + false_positive)\n",
    "    class_recall = safe_divide(true_positive, true_positive + false_negative)\n",
    "        \n",
    "    class_F1 = safe_divide(2 * class_prec * class_recall, class_prec + class_recall)\n",
    "    \n",
    "    \n",
    "    not_class_prec = safe_divide(true_negative, true_negative + false_negative)\n",
    "    not_class_recall = safe_divide(true_negative, true_negative + false_positive)\n",
    "    \n",
    "    not_class_F1 = safe_divide(2 * not_class_prec * not_class_recall, not_class_prec + not_class_recall)\n",
    "    \n",
    "    return ( (class_prec, class_recall, class_F1), (not_class_prec, not_class_recall, not_class_F1) )\n",
    "\n",
    "def arange(start, stop, step):\n",
    "    cur_value = start\n",
    "    while True:\n",
    "        if cur_value > stop: break\n",
    "        yield cur_value\n",
    "        cur_value += step\n",
    "\n",
    "def plot_results(docs, min_threshold=-1, max_threshold=1, step=0.1, trace=False):\n",
    "    x = []\n",
    "    y_p = []\n",
    "    y_n = []\n",
    "    docs_predictions = classifier.predict_all(docs)\n",
    "    for threshold in arange(min_threshold, max_threshold, step):\n",
    "        r = calculate_metrics(docs_predictions, threshold)\n",
    "        x.append(threshold)\n",
    "        y_p.append(r[0])\n",
    "        y_n.append(r[1])        \n",
    "        if trace: \n",
    "            print ('threshold %s' % threshold)\n",
    "            print ('\\tclass_prec %s, class_recall %s, class_F1 %s' % r[0])\n",
    "            print ('\\tnot_class_prec %s, not_class_recall %s, not_class_F1 %s' % r[1])\n",
    "            print ('\\t\\tMacroF1Mesure %s' % ((r[0][2] + r[1][2])/2))\n",
    "    plot_stats(x, y_p, \"Class Result\")\n",
    "    plot_stats(x, y_n, \"Not class Result\")    \n",
    "\n",
    "\n",
    "def plot_stats(x, y, title):\n",
    "    plt.figure(figsize=(10, 5))\n",
    "\n",
    "    prec, = plt.plot( x, \n",
    "                     [k[0] for k in y], \"r\", label='Precision', \n",
    "                     linewidth=1)\n",
    "    accur, = plt.plot( x, \n",
    "                      [k[1] for k in y], \"b\", label='Recall',\n",
    "                      linewidth=1)\n",
    "    f1, =    plt.plot( x, \n",
    "                      [k[2] for k in y], \"g\", label='F1',\n",
    "                      linewidth=1)\n",
    "    plt.grid(True)\n",
    "    plt.legend(handles=[prec, accur, f1])\n",
    "    plt.title(title)\n",
    "    plt.show()"
   ]
  },
  {
   "cell_type": "code",
   "execution_count": 90,
   "metadata": {},
   "outputs": [],
   "source": [
    "def calc_features(url, html_data, compression_level):\n",
    "    res = html2word(html_data)\n",
    "    words = res['text']\n",
    "    #visible_words = res['visible_text']\n",
    "    words_num = len(words)\n",
    "    avg_word_len = np.nanmean([len(word) for word in words])\n",
    "    #hidden_text = 100 - len(visible_words)/words_num * 100\n",
    "    title_words_num = res['title_len']\n",
    "    avg_anchor_len = res['avg_anchor_len']\n",
    "    anchor_num = res['anchor_num'] / words_num\n",
    "    #avg_meta_descr_len = res['avg_meta_descr_len']\n",
    "    #avg_meta_keywords_len = res['avg_meta_keywords_len']\n",
    "    log_phis_tags_num = res['log_phis_tags'] / words_num\n",
    "    image_num = res['image_num'] / words_num\n",
    "    script_num = res['script_num'] /  words_num\n",
    "    css_num = res['css_num'] / words_num\n",
    "    url_len = len(url)\n",
    "    \n",
    "    return [words_num, avg_word_len, title_words_num, avg_anchor_len,\n",
    "            anchor_num, log_phis_tags_num, image_num, script_num, css_num,\n",
    "            compression_level, url_len]"
   ]
  },
  {
   "cell_type": "code",
   "execution_count": 91,
   "metadata": {},
   "outputs": [
    {
     "name": "stdout",
     "output_type": "stream",
     "text": [
      "[6, 3.5, 2.0, 0, 0.0, 0.0, 0.0, 0.0, 0.0, 1, 12]\n"
     ]
    }
   ],
   "source": [
    "test_html_data = u'''\n",
    "<html>\n",
    "<title> Заголовок Ololo </title>\n",
    "спам 1 2 3\n",
    "</html>\n",
    "'''\n",
    "test_url = 'http://ololo'\n",
    "test_features = calc_features(test_url, test_html_data, 1)\n",
    "print (test_features)"
   ]
  },
  {
   "cell_type": "code",
   "execution_count": 92,
   "metadata": {},
   "outputs": [],
   "source": [
    "DocItem = namedtuple('DocItem', ['doc_id', 'is_spam', 'url', 'features'])\n",
    "\n",
    "def load_csv(input_file_name, calc_features_f):    \n",
    "    \"\"\"\n",
    "    Загружаем данные и извлекаем на лету признаки\n",
    "    Сам контент не сохраняется, чтобы уменьшить потребление памяти - чтобы\n",
    "    можно было запускать даже на ноутбуках в классе\n",
    "    \"\"\"\n",
    "    \n",
    "    with gzip.open(input_file_name) if input_file_name.endswith('gz') else open(input_file_name)  as input_file:            \n",
    "        headers = input_file.readline()\n",
    "        \n",
    "        for i, line in enumerate(input_file):\n",
    "            trace(i)\n",
    "            parts = line.decode().strip().split('\\t')\n",
    "            url_id = int(parts[0])                                        \n",
    "            mark = bool(int(parts[1]))                    \n",
    "            url = parts[2]\n",
    "            pageInb64 = parts[3]\n",
    "            html_data = base64.b64decode(pageInb64)\n",
    "            compression_level = (len(pageInb64) / len(html_data) - 1.333) * 100000 - 30\n",
    "            features = calc_features_f(url, html_data, compression_level)            \n",
    "            yield DocItem(url_id, mark, url, features)            \n",
    "                \n",
    "        trace(i, 1)        "
   ]
  },
  {
   "cell_type": "code",
   "execution_count": 93,
   "metadata": {},
   "outputs": [
    {
     "name": "stderr",
     "output_type": "stream",
     "text": [
      "16:11:48 INFO:Complete items 00000\n",
      "16:35:16 INFO:Complete items 01000\n",
      "16:52:34 INFO:Complete items 02000\n",
      "17:12:56 INFO:Complete items 03000\n",
      "17:20:57 WARNING:Some characters could not be decoded, and were replaced with REPLACEMENT CHARACTER.\n",
      "17:20:57 WARNING:Some characters could not be decoded, and were replaced with REPLACEMENT CHARACTER.\n",
      "17:20:58 WARNING:Some characters could not be decoded, and were replaced with REPLACEMENT CHARACTER.\n",
      "17:33:13 INFO:Complete items 04000\n",
      "17:54:44 INFO:Complete items 05000\n",
      "18:11:15 INFO:Complete items 06000\n",
      "18:31:29 INFO:Complete items 07000\n",
      "18:32:13 INFO:Complete items 07043\n"
     ]
    },
    {
     "name": "stdout",
     "output_type": "stream",
     "text": [
      "Wall time: 2h 20min 25s\n"
     ]
    }
   ],
   "source": [
    "%%time\n",
    "\n",
    "TRAIN_DATA_FILE  = 'kaggle_train_data_tab_new.csv.gz'\n",
    "\n",
    "train_docs = list(load_csv(TRAIN_DATA_FILE, calc_features))"
   ]
  },
  {
   "cell_type": "code",
   "execution_count": 94,
   "metadata": {},
   "outputs": [
    {
     "data": {
      "text/plain": [
       "7044"
      ]
     },
     "execution_count": 94,
     "metadata": {},
     "output_type": "execute_result"
    }
   ],
   "source": [
    "len(train_docs)"
   ]
  },
  {
   "cell_type": "code",
   "execution_count": 95,
   "metadata": {},
   "outputs": [
    {
     "data": {
      "image/png": "[encoded data removed]",
      "text/plain": [
       "<Figure size 432x288 with 1 Axes>"
      ]
     },
     "metadata": {
      "needs_background": "light"
     },
     "output_type": "display_data"
    }
   ],
   "source": [
    "is_spam_data = [doc.features[0] for doc in train_docs if doc[1] == True]\n",
    "not_spam_data = [doc.features[0] for doc in train_docs if doc[1] == False]\n",
    "bins = range(0,3000,10)\n",
    "plt.hist(is_spam_data, bins=bins, color='red', density=True, alpha=0.7, label='spam')\n",
    "plt.hist(not_spam_data, bins=bins, color='blue', density=True, alpha=0.7, label='not_spam')\n",
    "plt.title('NumWords')\n",
    "plt.legend()\n",
    "plt.show()"
   ]
  },
  {
   "cell_type": "code",
   "execution_count": 101,
   "metadata": {},
   "outputs": [
    {
     "data": {
      "image/png": "[encoded data removed]",
      "text/plain": [
       "<Figure size 432x288 with 1 Axes>"
      ]
     },
     "metadata": {
      "needs_background": "light"
     },
     "output_type": "display_data"
    }
   ],
   "source": [
    "is_spam_data = [doc.features[1] for doc in train_docs if doc[1] == True]\n",
    "not_spam_data = [doc.features[1] for doc in train_docs if doc[1] == False]\n",
    "bins = range(1,10,1)\n",
    "plt.hist(is_spam_data, bins=bins, color='red', density=True, alpha=0.7, label='spam')\n",
    "plt.hist(not_spam_data, bins=bins, color='blue', density=True, alpha=0.7, label='not_spam')\n",
    "plt.title('avg_word_len')\n",
    "plt.legend()\n",
    "plt.show()"
   ]
  },
  {
   "cell_type": "code",
   "execution_count": 113,
   "metadata": {},
   "outputs": [
    {
     "data": {
      "image/png": "[encoded data removed]",
      "text/plain": [
       "<Figure size 432x288 with 1 Axes>"
      ]
     },
     "metadata": {
      "needs_background": "light"
     },
     "output_type": "display_data"
    }
   ],
   "source": [
    "is_spam_data = [doc.features[2] for doc in train_docs if doc[1] == True]\n",
    "not_spam_data = [doc.features[2] for doc in train_docs if doc[1] == False]\n",
    "bins = range(0,60,1)\n",
    "plt.hist(is_spam_data, bins=bins, color='red', density=True, alpha=0.7, label='spam')\n",
    "plt.hist(not_spam_data, bins=bins, color='blue', density=True, alpha=0.7, label='not_spam')\n",
    "plt.title('title_words_num')\n",
    "plt.legend()\n",
    "plt.show()"
   ]
  },
  {
   "cell_type": "code",
   "execution_count": 114,
   "metadata": {},
   "outputs": [
    {
     "data": {
      "image/png": "[encoded data removed]",
      "text/plain": [
       "<Figure size 432x288 with 1 Axes>"
      ]
     },
     "metadata": {
      "needs_background": "light"
     },
     "output_type": "display_data"
    }
   ],
   "source": [
    "is_spam_data = [doc.features[3] for doc in train_docs if doc[1] == True]\n",
    "not_spam_data = [doc.features[3] for doc in train_docs if doc[1] == False]\n",
    "plt.hist(is_spam_data, bins=50, color='red', density=True, alpha=0.7, label='spam')\n",
    "plt.hist(not_spam_data, bins=50, color='blue', density=True, alpha=0.7, label='not_spam')\n",
    "plt.title('avg_anchor_len')\n",
    "plt.legend()\n",
    "plt.show()"
   ]
  },
  {
   "cell_type": "code",
   "execution_count": 115,
   "metadata": {},
   "outputs": [
    {
     "data": {
      "image/png": "[encoded data removed]",
      "text/plain": [
       "<Figure size 432x288 with 1 Axes>"
      ]
     },
     "metadata": {
      "needs_background": "light"
     },
     "output_type": "display_data"
    }
   ],
   "source": [
    "is_spam_data = [doc.features[4] for doc in train_docs if doc[1] == True]\n",
    "not_spam_data = [doc.features[4] for doc in train_docs if doc[1] == False]\n",
    "plt.hist(is_spam_data, bins=50, color='red', density=True, alpha=0.7, label='spam')\n",
    "plt.hist(not_spam_data, bins=50, color='blue', density=True, alpha=0.7, label='not_spam')\n",
    "plt.title('anchor_num')\n",
    "plt.legend()\n",
    "plt.show()"
   ]
  },
  {
   "cell_type": "code",
   "execution_count": 132,
   "metadata": {},
   "outputs": [
    {
     "data": {
      "image/png": "[encoded data removed]",
      "text/plain": [
       "<Figure size 432x288 with 1 Axes>"
      ]
     },
     "metadata": {
      "needs_background": "light"
     },
     "output_type": "display_data"
    }
   ],
   "source": [
    "is_spam_data = [doc.features[5] for doc in train_docs if doc[1] == True]\n",
    "not_spam_data = [doc.features[5] for doc in train_docs if doc[1] == False]\n",
    "plt.hist(is_spam_data, bins=20, color='red', density=True, alpha=0.7, label='spam')\n",
    "plt.hist(not_spam_data, bins=20, color='blue', density=True, alpha=0.7, label='not_spam')\n",
    "plt.title('log_phis_tags_num')\n",
    "plt.legend()\n",
    "plt.show()"
   ]
  },
  {
   "cell_type": "code",
   "execution_count": 130,
   "metadata": {},
   "outputs": [
    {
     "data": {
      "image/png": "[encoded data removed]",
      "text/plain": [
       "<Figure size 432x288 with 1 Axes>"
      ]
     },
     "metadata": {
      "needs_background": "light"
     },
     "output_type": "display_data"
    }
   ],
   "source": [
    "is_spam_data = [doc.features[6] for doc in train_docs if doc[1] == True]\n",
    "not_spam_data = [doc.features[6] for doc in train_docs if doc[1] == False]\n",
    "plt.hist(is_spam_data, bins=30, color='red', density=True, alpha=0.7, label='spam')\n",
    "plt.hist(not_spam_data, bins=30, color='blue', density=True, alpha=0.7, label='not_spam')\n",
    "plt.title('image_num')\n",
    "plt.legend()\n",
    "plt.show()"
   ]
  },
  {
   "cell_type": "code",
   "execution_count": 129,
   "metadata": {},
   "outputs": [
    {
     "data": {
      "image/png": "[encoded data removed]",
      "text/plain": [
       "<Figure size 432x288 with 1 Axes>"
      ]
     },
     "metadata": {
      "needs_background": "light"
     },
     "output_type": "display_data"
    }
   ],
   "source": [
    "is_spam_data = [doc.features[7] for doc in train_docs if doc[1] == True]\n",
    "not_spam_data = [doc.features[7] for doc in train_docs if doc[1] == False]\n",
    "plt.hist(is_spam_data, bins=10, color='red', density=True, alpha=0.7, label='spam')\n",
    "plt.hist(not_spam_data, bins=10, color='blue', density=True, alpha=0.7, label='not_spam')\n",
    "plt.title('script_num')\n",
    "plt.legend()\n",
    "plt.show()"
   ]
  },
  {
   "cell_type": "code",
   "execution_count": 123,
   "metadata": {},
   "outputs": [
    {
     "data": {
      "image/png": "[encoded data removed]",
      "text/plain": [
       "<Figure size 432x288 with 1 Axes>"
      ]
     },
     "metadata": {
      "needs_background": "light"
     },
     "output_type": "display_data"
    }
   ],
   "source": [
    "is_spam_data = [doc.features[8] for doc in train_docs if doc[1] == True]\n",
    "not_spam_data = [doc.features[8] for doc in train_docs if doc[1] == False]\n",
    "plt.hist(is_spam_data, bins=50, color='red', density=True, alpha=0.7, label='spam')\n",
    "plt.hist(not_spam_data, bins=50, color='blue', density=True, alpha=0.7, label='not_spam')\n",
    "plt.title('css_num')\n",
    "plt.legend()\n",
    "plt.show()"
   ]
  },
  {
   "cell_type": "code",
   "execution_count": 133,
   "metadata": {},
   "outputs": [
    {
     "data": {
      "image/png": "[encoded data removed]",
      "text/plain": [
       "<Figure size 432x288 with 1 Axes>"
      ]
     },
     "metadata": {
      "needs_background": "light"
     },
     "output_type": "display_data"
    }
   ],
   "source": [
    "is_spam_data = [doc.features[9] for doc in train_docs if doc[1] == True]\n",
    "not_spam_data = [doc.features[9] for doc in train_docs if doc[1] == False]\n",
    "plt.hist(is_spam_data, bins=20, color='red', density=True, alpha=0.7, label='spam')\n",
    "plt.hist(not_spam_data, bins=20, color='blue', density=True, alpha=0.7, label='not_spam')\n",
    "plt.title('compression_level')\n",
    "plt.legend()\n",
    "plt.show()"
   ]
  },
  {
   "cell_type": "code",
   "execution_count": 136,
   "metadata": {},
   "outputs": [
    {
     "data": {
      "image/png": "[encoded data removed]",
      "text/plain": [
       "<Figure size 432x288 with 1 Axes>"
      ]
     },
     "metadata": {
      "needs_background": "light"
     },
     "output_type": "display_data"
    }
   ],
   "source": [
    "is_spam_data = [doc.features[10] for doc in train_docs if doc[1] == True]\n",
    "not_spam_data = [doc.features[10] for doc in train_docs if doc[1] == False]\n",
    "plt.hist(is_spam_data, bins=30, color='red', density=True, alpha=0.7, label='spam')\n",
    "plt.hist(not_spam_data, bins=30, color='blue', density=True, alpha=0.7, label='not_spam')\n",
    "plt.title('url_len')\n",
    "plt.legend()\n",
    "plt.show()"
   ]
  },
  {
   "cell_type": "code",
   "execution_count": 171,
   "metadata": {},
   "outputs": [],
   "source": [
    "#from sklearn.ensemble import GradientBoostingClassifier\n",
    "from sklearn import svm\n",
    "\n",
    "class Classifier:\n",
    "    \n",
    "    def __init__(self):\n",
    "        #self.clf = GradientBoostingClassifier(n_estimators = 1000)\n",
    "        self.clf = svm.SVC()\n",
    "        \n",
    "    def predict(self, doc):\n",
    "        features = np.array([doc.features])\n",
    "        features = np.nan_to_num(features)\n",
    "        return self.clf.predict(features)                   \n",
    "    \n",
    "    def predict_all(self, docs):\n",
    "        res = []\n",
    "        for doc_num, doc in enumerate(docs):\n",
    "            trace(doc_num)\n",
    "            prediction = self.predict(doc)            \n",
    "            res.append( (doc.doc_id, doc.is_spam, doc.url, prediction) )\n",
    "        return res\n",
    "    \n",
    "    def train(self, docs):                \n",
    "#         for doc_num, doc in enumerate(docs):                            \n",
    "#             #TODO вставить код обучения\n",
    "#             trace(doc_num)\n",
    "#         trace(doc_num, 1)\n",
    "        features = np.array([doc.features for doc in docs]).astype(\"float32\")\n",
    "        targets =  np.array([doc.is_spam for doc in docs]).astype(\"float32\")\n",
    "        features = np.nan_to_num(features)\n",
    "        targets = np.nan_to_num(targets)\n",
    "\n",
    "        self.clf = self.clf.fit(features, targets)"
   ]
  },
  {
   "cell_type": "code",
   "execution_count": 172,
   "metadata": {},
   "outputs": [
    {
     "name": "stderr",
     "output_type": "stream",
     "text": [
      "C:\\Users\\karry\\Anaconda3\\lib\\site-packages\\sklearn\\svm\\base.py:193: FutureWarning: The default value of gamma will change from 'auto' to 'scale' in version 0.22 to account better for unscaled features. Set gamma explicitly to 'auto' or 'scale' to avoid this warning.\n",
      "  \"avoid this warning.\", FutureWarning)\n"
     ]
    }
   ],
   "source": [
    "classifier = Classifier()\n",
    "classifier.train(train_docs)"
   ]
  },
  {
   "cell_type": "code",
   "execution_count": 173,
   "metadata": {},
   "outputs": [
    {
     "data": {
      "text/plain": [
       "array([1.], dtype=float32)"
      ]
     },
     "execution_count": 173,
     "metadata": {},
     "output_type": "execute_result"
    }
   ],
   "source": [
    "classifier.predict(DocItem(0, 0, test_url , test_features))"
   ]
  },
  {
   "cell_type": "code",
   "execution_count": 174,
   "metadata": {},
   "outputs": [
    {
     "name": "stderr",
     "output_type": "stream",
     "text": [
      "23:00:29 INFO:Complete items 00000\n",
      "23:00:30 INFO:Complete items 01000\n",
      "23:00:31 INFO:Complete items 02000\n",
      "23:00:31 INFO:Complete items 03000\n",
      "23:00:32 INFO:Complete items 04000\n",
      "23:00:33 INFO:Complete items 05000\n",
      "23:00:34 INFO:Complete items 06000\n",
      "23:00:35 INFO:Complete items 07000\n"
     ]
    },
    {
     "name": "stdout",
     "output_type": "stream",
     "text": [
      "threshold 0\n",
      "\tclass_prec 0.9958797867183713, class_recall 1.0, class_F1 0.9979356405585914\n",
      "\tnot_class_prec 1.0, not_class_recall 0.9942078364565587, not_class_F1 0.9970955065778233\n",
      "\t\tMacroF1Mesure 0.9975155735682073\n",
      "threshold 0.1\n",
      "\tclass_prec 0.9958797867183713, class_recall 1.0, class_F1 0.9979356405585914\n",
      "\tnot_class_prec 1.0, not_class_recall 0.9942078364565587, not_class_F1 0.9970955065778233\n",
      "\t\tMacroF1Mesure 0.9975155735682073\n",
      "threshold 0.2\n",
      "\tclass_prec 0.9958797867183713, class_recall 1.0, class_F1 0.9979356405585914\n",
      "\tnot_class_prec 1.0, not_class_recall 0.9942078364565587, not_class_F1 0.9970955065778233\n",
      "\t\tMacroF1Mesure 0.9975155735682073\n",
      "threshold 0.30000000000000004\n",
      "\tclass_prec 0.9958797867183713, class_recall 1.0, class_F1 0.9979356405585914\n",
      "\tnot_class_prec 1.0, not_class_recall 0.9942078364565587, not_class_F1 0.9970955065778233\n",
      "\t\tMacroF1Mesure 0.9975155735682073\n",
      "threshold 0.4\n",
      "\tclass_prec 0.9958797867183713, class_recall 1.0, class_F1 0.9979356405585914\n",
      "\tnot_class_prec 1.0, not_class_recall 0.9942078364565587, not_class_F1 0.9970955065778233\n",
      "\t\tMacroF1Mesure 0.9975155735682073\n",
      "threshold 0.5\n",
      "\tclass_prec 0.9958797867183713, class_recall 1.0, class_F1 0.9979356405585914\n",
      "\tnot_class_prec 1.0, not_class_recall 0.9942078364565587, not_class_F1 0.9970955065778233\n",
      "\t\tMacroF1Mesure 0.9975155735682073\n",
      "threshold 0.6\n",
      "\tclass_prec 0.9958797867183713, class_recall 1.0, class_F1 0.9979356405585914\n",
      "\tnot_class_prec 1.0, not_class_recall 0.9942078364565587, not_class_F1 0.9970955065778233\n",
      "\t\tMacroF1Mesure 0.9975155735682073\n",
      "threshold 0.7\n",
      "\tclass_prec 0.9958797867183713, class_recall 1.0, class_F1 0.9979356405585914\n",
      "\tnot_class_prec 1.0, not_class_recall 0.9942078364565587, not_class_F1 0.9970955065778233\n",
      "\t\tMacroF1Mesure 0.9975155735682073\n",
      "threshold 0.7999999999999999\n",
      "\tclass_prec 0.9958797867183713, class_recall 1.0, class_F1 0.9979356405585914\n",
      "\tnot_class_prec 1.0, not_class_recall 0.9942078364565587, not_class_F1 0.9970955065778233\n",
      "\t\tMacroF1Mesure 0.9975155735682073\n",
      "threshold 0.8999999999999999\n",
      "\tclass_prec 0.9958797867183713, class_recall 1.0, class_F1 0.9979356405585914\n",
      "\tnot_class_prec 1.0, not_class_recall 0.9942078364565587, not_class_F1 0.9970955065778233\n",
      "\t\tMacroF1Mesure 0.9975155735682073\n",
      "threshold 0.9999999999999999\n",
      "\tclass_prec 0.0, class_recall 0.0, class_F1 0.0\n",
      "\tnot_class_prec 0.4166666666666667, not_class_recall 1.0, not_class_F1 0.5882352941176471\n",
      "\t\tMacroF1Mesure 0.29411764705882354\n"
     ]
    },
    {
     "data": {
      "image/png": "[encoded data removed]",
      "text/plain": [
       "<Figure size 720x360 with 1 Axes>"
      ]
     },
     "metadata": {
      "needs_background": "light"
     },
     "output_type": "display_data"
    },
    {
     "data": {
      "image/png": "[encoded data removed]",
      "text/plain": [
       "<Figure size 720x360 with 1 Axes>"
      ]
     },
     "metadata": {
      "needs_background": "light"
     },
     "output_type": "display_data"
    }
   ],
   "source": [
    "plot_results(train_docs, min_threshold=0, max_threshold=1, step=0.1, trace=1)"
   ]
  },
  {
   "cell_type": "code",
   "execution_count": 175,
   "metadata": {},
   "outputs": [
    {
     "name": "stderr",
     "output_type": "stream",
     "text": [
      "23:00:39 INFO:Complete items 00000\n",
      "23:00:40 INFO:Complete items 00000\n",
      "23:30:45 INFO:Complete items 01000\n",
      "23:30:45 INFO:Complete items 01000\n",
      "23:55:37 INFO:Complete items 02000\n",
      "23:55:38 INFO:Complete items 02000\n",
      "00:16:51 INFO:Complete items 03000\n",
      "00:16:53 INFO:Complete items 03000\n",
      "00:35:31 INFO:Complete items 04000\n",
      "00:35:33 INFO:Complete items 04000\n",
      "00:51:55 INFO:Complete items 05000\n",
      "00:51:56 INFO:Complete items 05000\n",
      "01:15:52 INFO:Complete items 06000\n",
      "01:15:53 INFO:Complete items 06000\n",
      "01:32:36 INFO:Complete items 07000\n",
      "01:32:37 INFO:Complete items 07000\n",
      "01:52:23 INFO:Complete items 08000\n",
      "01:52:24 INFO:Complete items 08000\n",
      "02:10:39 INFO:Complete items 09000\n",
      "02:10:39 INFO:Complete items 09000\n",
      "02:36:45 INFO:Complete items 10000\n",
      "02:36:45 INFO:Complete items 10000\n",
      "02:55:01 INFO:Complete items 11000\n",
      "02:55:01 INFO:Complete items 11000\n",
      "03:14:50 INFO:Complete items 12000\n",
      "03:14:50 INFO:Complete items 12000\n",
      "03:31:26 INFO:Complete items 13000\n",
      "03:31:27 INFO:Complete items 13000\n",
      "03:52:23 INFO:Complete items 14000\n",
      "03:52:23 INFO:Complete items 14000\n",
      "04:10:59 INFO:Complete items 15000\n",
      "04:11:00 INFO:Complete items 15000\n",
      "04:31:07 INFO:Complete items 16000\n",
      "04:31:07 INFO:Complete items 16000\n",
      "04:31:35 INFO:Complete items 16038\n"
     ]
    }
   ],
   "source": [
    "TEST_DATA_FILE  = 'kaggle_test_data_tab_new.csv.gz'\n",
    "\n",
    "test_docs = load_csv(TEST_DATA_FILE, calc_features)\n",
    "\n",
    "threshold = 0.5\n",
    "\n",
    "with open('my_submission_new.csv' , 'w') as fout:\n",
    "    writer = csv.writer(fout)\n",
    "    writer.writerow(['Id','Prediction'])\n",
    "    for item in classifier.predict_all(test_docs):\n",
    "        prediction =  1 if item[3] > threshold else 0\n",
    "        writer.writerow([item[0], prediction])"
   ]
  },
  {
   "cell_type": "code",
   "execution_count": null,
   "metadata": {},
   "outputs": [],
   "source": []
  }
 ],
 "metadata": {
  "kernelspec": {
   "display_name": "Python 3",
   "language": "python",
   "name": "python3"
  },
  "language_info": {
   "codemirror_mode": {
    "name": "ipython",
    "version": 3
   },
   "file_extension": ".py",
   "mimetype": "text/x-python",
   "name": "python",
   "nbconvert_exporter": "python",
   "pygments_lexer": "ipython3",
   "version": "3.7.3"
  }
 },
 "nbformat": 4,
 "nbformat_minor": 2
}
